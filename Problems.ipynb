{
 "cells": [
  {
   "cell_type": "markdown",
   "metadata": {},
   "source": [
    "Importing data"
   ]
  },
  {
   "cell_type": "code",
   "execution_count": 2,
   "metadata": {},
   "outputs": [],
   "source": [
    "import pandas as pd\n",
    "\n",
    "df=pd.read_csv(\"https://raw.githubusercontent.com/notamyth/BAwithR/master/ps2/CEOSAL2.csv\")"
   ]
  },
  {
   "cell_type": "markdown",
   "metadata": {},
   "source": [
    "1) Find the average salary and the average tenure in the sample."
   ]
  },
  {
   "cell_type": "code",
   "execution_count": 3,
   "metadata": {},
   "outputs": [
    {
     "name": "stdout",
     "output_type": "stream",
     "text": [
      "Avarage salary: 865.864407\n",
      "Avarage tenure: 7.954802\n"
     ]
    }
   ],
   "source": [
    "print(\"Avarage salary: %f\"%df[\"salary\"].mean())\n",
    "print(\"Avarage tenure: %f\"%df[\"ceoten\"].mean())"
   ]
  },
  {
   "cell_type": "markdown",
   "metadata": {},
   "source": [
    "2) How many CEOs are in their first year as CEO (that is, ceoten = 0)? What is the longest tenure as a CEO?"
   ]
  },
  {
   "cell_type": "code",
   "execution_count": 6,
   "metadata": {},
   "outputs": [
    {
     "name": "stdout",
     "output_type": "stream",
     "text": [
      "Number of CEOs in therir first year as CEO: 5\n",
      "Longest tenure as a CEO: 37\n"
     ]
    }
   ],
   "source": [
    "print(\"Number of CEOs in therir first year as CEO: %d\"% len(df[df[\"ceoten\"]==0]))\n",
    "print(\"Longest tenure as a CEO: %d\"% max(df[\"ceoten\"]))"
   ]
  },
  {
   "cell_type": "code",
   "execution_count": 7,
   "metadata": {},
   "outputs": [],
   "source": [
    "import numpy as np\n",
    "import matplotlib.pyplot as plt  # To visualize\n",
    "import pandas as pd  # To read data\n",
    "import statsmodels.api as sm"
   ]
  },
  {
   "cell_type": "markdown",
   "metadata": {},
   "source": [
    "3)Estimate the simple regression model, approximate predicted percentage increase in salary given one more year as a CEO."
   ]
  },
  {
   "cell_type": "code",
   "execution_count": 8,
   "metadata": {},
   "outputs": [
    {
     "data": {
      "text/html": [
       "<table class=\"simpletable\">\n",
       "<caption>OLS Regression Results</caption>\n",
       "<tr>\n",
       "  <th>Dep. Variable:</th>            <td>y</td>        <th>  R-squared:         </th> <td>   0.013</td>\n",
       "</tr>\n",
       "<tr>\n",
       "  <th>Model:</th>                   <td>OLS</td>       <th>  Adj. R-squared:    </th> <td>   0.008</td>\n",
       "</tr>\n",
       "<tr>\n",
       "  <th>Method:</th>             <td>Least Squares</td>  <th>  F-statistic:       </th> <td>   2.334</td>\n",
       "</tr>\n",
       "<tr>\n",
       "  <th>Date:</th>             <td>Fri, 15 Oct 2021</td> <th>  Prob (F-statistic):</th>  <td> 0.128</td> \n",
       "</tr>\n",
       "<tr>\n",
       "  <th>Time:</th>                 <td>23:49:21</td>     <th>  Log-Likelihood:    </th> <td> -160.84</td>\n",
       "</tr>\n",
       "<tr>\n",
       "  <th>No. Observations:</th>      <td>   177</td>      <th>  AIC:               </th> <td>   325.7</td>\n",
       "</tr>\n",
       "<tr>\n",
       "  <th>Df Residuals:</th>          <td>   175</td>      <th>  BIC:               </th> <td>   332.0</td>\n",
       "</tr>\n",
       "<tr>\n",
       "  <th>Df Model:</th>              <td>     1</td>      <th>                     </th>     <td> </td>   \n",
       "</tr>\n",
       "<tr>\n",
       "  <th>Covariance Type:</th>      <td>nonrobust</td>    <th>                     </th>     <td> </td>   \n",
       "</tr>\n",
       "</table>\n",
       "<table class=\"simpletable\">\n",
       "<tr>\n",
       "    <td></td>       <th>coef</th>     <th>std err</th>      <th>t</th>      <th>P>|t|</th>  <th>[0.025</th>    <th>0.975]</th>  \n",
       "</tr>\n",
       "<tr>\n",
       "  <th>const</th> <td>    6.5055</td> <td>    0.068</td> <td>   95.682</td> <td> 0.000</td> <td>    6.371</td> <td>    6.640</td>\n",
       "</tr>\n",
       "<tr>\n",
       "  <th>x1</th>    <td>    0.0097</td> <td>    0.006</td> <td>    1.528</td> <td> 0.128</td> <td>   -0.003</td> <td>    0.022</td>\n",
       "</tr>\n",
       "</table>\n",
       "<table class=\"simpletable\">\n",
       "<tr>\n",
       "  <th>Omnibus:</th>       <td> 3.858</td> <th>  Durbin-Watson:     </th> <td>   2.084</td>\n",
       "</tr>\n",
       "<tr>\n",
       "  <th>Prob(Omnibus):</th> <td> 0.145</td> <th>  Jarque-Bera (JB):  </th> <td>   3.907</td>\n",
       "</tr>\n",
       "<tr>\n",
       "  <th>Skew:</th>          <td>-0.189</td> <th>  Prob(JB):          </th> <td>   0.142</td>\n",
       "</tr>\n",
       "<tr>\n",
       "  <th>Kurtosis:</th>      <td> 3.622</td> <th>  Cond. No.          </th> <td>    16.1</td>\n",
       "</tr>\n",
       "</table><br/><br/>Notes:<br/>[1] Standard Errors assume that the covariance matrix of the errors is correctly specified."
      ],
      "text/plain": [
       "<class 'statsmodels.iolib.summary.Summary'>\n",
       "\"\"\"\n",
       "                            OLS Regression Results                            \n",
       "==============================================================================\n",
       "Dep. Variable:                      y   R-squared:                       0.013\n",
       "Model:                            OLS   Adj. R-squared:                  0.008\n",
       "Method:                 Least Squares   F-statistic:                     2.334\n",
       "Date:                Fri, 15 Oct 2021   Prob (F-statistic):              0.128\n",
       "Time:                        23:49:21   Log-Likelihood:                -160.84\n",
       "No. Observations:                 177   AIC:                             325.7\n",
       "Df Residuals:                     175   BIC:                             332.0\n",
       "Df Model:                           1                                         \n",
       "Covariance Type:            nonrobust                                         \n",
       "==============================================================================\n",
       "                 coef    std err          t      P>|t|      [0.025      0.975]\n",
       "------------------------------------------------------------------------------\n",
       "const          6.5055      0.068     95.682      0.000       6.371       6.640\n",
       "x1             0.0097      0.006      1.528      0.128      -0.003       0.022\n",
       "==============================================================================\n",
       "Omnibus:                        3.858   Durbin-Watson:                   2.084\n",
       "Prob(Omnibus):                  0.145   Jarque-Bera (JB):                3.907\n",
       "Skew:                          -0.189   Prob(JB):                        0.142\n",
       "Kurtosis:                       3.622   Cond. No.                         16.1\n",
       "==============================================================================\n",
       "\n",
       "Notes:\n",
       "[1] Standard Errors assume that the covariance matrix of the errors is correctly specified.\n",
       "\"\"\""
      ]
     },
     "execution_count": 8,
     "metadata": {},
     "output_type": "execute_result"
    }
   ],
   "source": [
    "X=sm.add_constant(df[\"ceoten\"].to_numpy())\n",
    "Y=np.log(df[\"salary\"].to_numpy())\n",
    "lin_regr=sm.OLS(Y,X)\n",
    "lin_regr_est=lin_regr.fit()\n",
    "lin_regr_est.summary()"
   ]
  },
  {
   "cell_type": "code",
   "execution_count": 9,
   "metadata": {},
   "outputs": [
    {
     "name": "stdout",
     "output_type": "stream",
     "text": [
      "Predicted percentage increase: 0.977106\n"
     ]
    }
   ],
   "source": [
    "x1=10\n",
    "x2=x1+1\n",
    "y1=np.exp(lin_regr_est.predict([1,x1]))\n",
    "y2=np.exp(lin_regr_est.predict([1,x2]))\n",
    "p=(100*(y2-y1))/y1\n",
    "print(\"Predicted percentage increase: %f\"%p)"
   ]
  },
  {
   "cell_type": "markdown",
   "metadata": {},
   "source": [
    "4)Plot the line of linear regression and scatter plot"
   ]
  },
  {
   "cell_type": "code",
   "execution_count": 10,
   "metadata": {},
   "outputs": [
    {
     "data": {
      "image/png": "[encoded data removed]",
      "text/plain": [
       "<Figure size 432x288 with 1 Axes>"
      ]
     },
     "metadata": {
      "needs_background": "light"
     },
     "output_type": "display_data"
    }
   ],
   "source": [
    "x=list(range(0,40))\n",
    "X=df[\"ceoten\"].to_numpy()\n",
    "Y=df[\"salary\"].to_numpy()\n",
    "plt.plot(x, np.exp(lin_regr_est.predict([[1,xi] for xi in x])))\n",
    "plt.scatter(X,Y)\n",
    "plt.show()"
   ]
  },
  {
   "cell_type": "markdown",
   "metadata": {},
   "source": [
    "5-6) Compare betta_1 and betta_0 with library model"
   ]
  },
  {
   "cell_type": "code",
   "execution_count": 11,
   "metadata": {},
   "outputs": [],
   "source": [
    "def cov(X,Y):\n",
    "    return sum((X-X.mean())*(Y-Y.mean()))/len(X)\n",
    "def var(X):\n",
    "    return (X**2).mean()-(X.mean())**2\n"
   ]
  },
  {
   "cell_type": "code",
   "execution_count": 12,
   "metadata": {},
   "outputs": [
    {
     "name": "stdout",
     "output_type": "stream",
     "text": [
      "Model params: [6.50549798 0.00972363]\n",
      "My params:    [6.50549798 0.00972363]\n"
     ]
    }
   ],
   "source": [
    "betta1=cov(X,np.log(Y))/var(X)\n",
    "betta0=(np.log(Y).mean())-(betta1*(X.mean()))\n",
    "print(\"Model params:\",lin_regr_est.params)\n",
    "print(\"My params:   \", np.array([betta0,betta1]))\n"
   ]
  },
  {
   "cell_type": "markdown",
   "metadata": {},
   "source": [
    "7-8) Compare standard error of intercept and slope with library model"
   ]
  },
  {
   "cell_type": "code",
   "execution_count": 13,
   "metadata": {},
   "outputs": [
    {
     "name": "stdout",
     "output_type": "stream",
     "text": [
      "Model standart errors: [0.06799107 0.00636448]\n",
      "My standart errors:     0.06799107 0.00636448\n"
     ]
    }
   ],
   "source": [
    "Y=np.log(Y)\n",
    "Y_hat=lin_regr_est.predict([[1,x] for x in X])\n",
    "n=len(X)\n",
    "ESS=sum((Y-Y_hat)**2)\n",
    "s=np.sqrt(ESS/(n-2))\n",
    "SE_b_0=s*np.sqrt(sum(X**2)/(n*sum(X**2)-sum(X)**2))\n",
    "\n",
    "\n",
    "SE_b_1=s*np.sqrt(n/(n*sum(X**2)-sum(X)**2))\n",
    "print(\"Model standart errors:\",lin_regr_est.bse)\n",
    "print(\"My standart errors:    \",round(SE_b_0,8),round(SE_b_1,8))"
   ]
  },
  {
   "cell_type": "markdown",
   "metadata": {},
   "source": [
    "9) Compare standart R sqaure with library model"
   ]
  },
  {
   "cell_type": "code",
   "execution_count": 14,
   "metadata": {},
   "outputs": [
    {
     "name": "stdout",
     "output_type": "stream",
     "text": [
      "Model R squared:    0.013162517743660396\n",
      "My model R squared: 0.013162517743660174\n"
     ]
    }
   ],
   "source": [
    "TSS=sum((Y-Y.mean())**2)\n",
    "R_square=1-ESS/TSS\n",
    "print(\"Model R squared:   \",lin_regr_est.rsquared)\n",
    "print(\"My model R squared:\",R_square)"
   ]
  }
 ],
 "metadata": {
  "interpreter": {
   "hash": "b3ba2566441a7c06988d0923437866b63cedc61552a5af99d1f4fb67d367b25f"
  },
  "kernelspec": {
   "display_name": "Python 3.8.8 64-bit ('base': conda)",
   "name": "python3"
  },
  "language_info": {
   "codemirror_mode": {
    "name": "ipython",
    "version": 3
   },
   "file_extension": ".py",
   "mimetype": "text/x-python",
   "name": "python",
   "nbconvert_exporter": "python",
   "pygments_lexer": "ipython3",
   "version": "3.8.8"
  }
 },
 "nbformat": 4,
 "nbformat_minor": 5
}
